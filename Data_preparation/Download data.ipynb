{
 "cells": [
  {
   "cell_type": "code",
   "execution_count": 3,
   "id": "57f6a01f",
   "metadata": {},
   "outputs": [],
   "source": [
    "import sys, os\n",
    "from os.path import abspath, sep, pardir\n",
    "sys.path.append(abspath('') + sep + pardir)\n",
    "\n",
    "import numpy as np"
   ]
  },
  {
   "cell_type": "markdown",
   "id": "a581cdf4",
   "metadata": {},
   "source": [
    "## Download archive from zenodo\n",
    "\n",
    "You can manually download all files from the archive https://zenodo.org/api/records/13928397 or use the following code snippet requiring wget.\n",
    "    In the end, you should have a folder 'Data/' containing a file 'commonROI.npy' and 5 subfolders in the fornat of \"EO{date}\".\n",
    " "
   ]
  },
  {
   "cell_type": "raw",
   "id": "fffb3ad0",
   "metadata": {},
   "source": [
    "── DataF2181\n",
    "    │   ├── Day_EO+0\n",
    "    │   │   ├── evoked_data_binocular.npy\n",
    "    │   │   ├── evoked_data_contra.npy\n",
    "    │   │   ├── evoked_data_ipsi.npy\n",
    "    │   │   └── spont_data.npy\n",
    "    │   ├── Day_EO+2\n",
    "    │   │   ├── evoked_data_binocular.npy\n",
    "    │   │   ├── evoked_data_contra.npy\n",
    "    │   │   ├── evoked_data_ipsi.npy\n",
    "    │   │   └── spont_data.npy\n",
    "    │   ├── Day_EO+4\n",
    "    │   │   ├── evoked_data_binocular.npy\n",
    "    │   │   ├── evoked_data_contra.npy\n",
    "    │   │   ├── evoked_data_ipsi.npy\n",
    "    │   ├── Day_EO+6\n",
    "    │   │   ├── evoked_data_binocular.npy\n",
    "    │   │   ├── evoked_data_contra.npy\n",
    "    │   │   ├── evoked_data_ipsi.npy\n",
    "    │   │   └── spont_data.npy\n",
    "    │   ├── Day_EO-2\n",
    "    │   │   ├── evoked_data_binocular.npy\n",
    "    │   │   ├── evoked_data_contra.npy\n",
    "    │   │   ├── evoked_data_ipsi.npy\n",
    "    │   │   └── spont_data.npy\n",
    "    │   └── commonROI.npy"
   ]
  },
  {
   "cell_type": "code",
   "execution_count": null,
   "id": "c5b98ebb",
   "metadata": {},
   "outputs": [],
   "source": [
    "!wget https://zenodo.org/api/records/13928397/files-archive -P \"../\""
   ]
  },
  {
   "cell_type": "code",
   "execution_count": 9,
   "id": "17ee9c75",
   "metadata": {},
   "outputs": [],
   "source": [
    "mkdir '../Data'"
   ]
  },
  {
   "cell_type": "markdown",
   "id": "98645547",
   "metadata": {},
   "source": [
    "## Unzip archive\n",
    "\n",
    "Manually unzip (recursively) until you arrive at the described folder structure."
   ]
  },
  {
   "cell_type": "code",
   "execution_count": 10,
   "id": "446b1a30",
   "metadata": {},
   "outputs": [
    {
     "name": "stdout",
     "output_type": "stream",
     "text": [
      "Archive:  ../files-archive\n",
      " extracting: ../Data/commonROI.npy   \n",
      " extracting: ../Data/Day_EO+0.zip    \n",
      " extracting: ../Data/Day_EO+6.zip    \n",
      " extracting: ../Data/Day_EO-2.zip    \n",
      " extracting: ../Data/Day_EO+2.zip    \n",
      " extracting: ../Data/Day_EO+4.zip    \n"
     ]
    }
   ],
   "source": [
    "!unzip \"../files-archive\" -d '../DataF2181'"
   ]
  },
  {
   "cell_type": "code",
   "execution_count": 15,
   "id": "0c1abbe5",
   "metadata": {},
   "outputs": [
    {
     "name": "stdout",
     "output_type": "stream",
     "text": [
      "Archive:  ../Data/Day_EO-2.zip\n",
      "   creating: ../Data/Day_EO-2/\n",
      "  inflating: ../Data/Day_EO-2/.DS_Store  \n",
      "  inflating: ../Data/__MACOSX/Day_EO-2/._.DS_Store  \n",
      "  inflating: ../Data/Day_EO-2/spont_data.npy  \n",
      "  inflating: ../Data/Day_EO-2/evoked_data_binocular.npy  \n",
      "  inflating: ../Data/Day_EO-2/evoked_data_contra.npy  \n",
      "  inflating: ../Data/Day_EO-2/evoked_data_ipsi.npy  \n",
      "Archive:  ../Data/Day_EO+0.zip\n",
      "   creating: ../Data/Day_EO+0/\n",
      "  inflating: ../Data/Day_EO+0/.DS_Store  \n",
      "  inflating: ../Data/__MACOSX/Day_EO+0/._.DS_Store  \n",
      "  inflating: ../Data/Day_EO+0/spont_data.npy  \n",
      "  inflating: ../Data/Day_EO+0/evoked_data_binocular.npy  \n",
      "  inflating: ../Data/Day_EO+0/evoked_data_contra.npy  \n",
      "  inflating: ../Data/Day_EO+0/evoked_data_ipsi.npy  \n",
      "Archive:  ../Data/Day_EO+2.zip\n",
      "   creating: ../Data/Day_EO+2/\n",
      "  inflating: ../Data/Day_EO+2/.DS_Store  \n",
      "  inflating: ../Data/__MACOSX/Day_EO+2/._.DS_Store  \n",
      "  inflating: ../Data/Day_EO+2/spont_data.npy  \n",
      "  inflating: ../Data/Day_EO+2/evoked_data_binocular.npy  \n",
      "  inflating: ../Data/Day_EO+2/evoked_data_contra.npy  \n",
      "  inflating: ../Data/Day_EO+2/evoked_data_ipsi.npy  \n",
      "Archive:  ../Data/Day_EO+4.zip\n",
      "   creating: ../Data/Day_EO+4/\n",
      "  inflating: ../Data/Day_EO+4/.DS_Store  \n",
      "  inflating: ../Data/__MACOSX/Day_EO+4/._.DS_Store  \n",
      "  inflating: ../Data/Day_EO+4/spont_data.npy  \n",
      "  inflating: ../Data/Day_EO+4/evoked_data_binocular.npy  \n",
      "  inflating: ../Data/Day_EO+4/evoked_data_contra.npy  \n",
      "  inflating: ../Data/Day_EO+4/evoked_data_ipsi.npy  \n",
      "Archive:  ../Data/Day_EO+6.zip\n",
      "   creating: ../Data/Day_EO+6/\n",
      "  inflating: ../Data/Day_EO+6/.DS_Store  \n",
      "  inflating: ../Data/__MACOSX/Day_EO+6/._.DS_Store  \n",
      "  inflating: ../Data/Day_EO+6/spont_data.npy  \n",
      "  inflating: ../Data/Day_EO+6/evoked_data_binocular.npy  \n",
      "  inflating: ../Data/Day_EO+6/evoked_data_contra.npy  \n",
      "  inflating: ../Data/Day_EO+6/evoked_data_ipsi.npy  \n"
     ]
    }
   ],
   "source": [
    "for date in ['-2','+0','+2','+4','+6']:\n",
    "    !unzip \"../DataF2181/Day_EO{date}.zip\" -d '../DataF2181/'"
   ]
  },
  {
   "cell_type": "code",
   "execution_count": null,
   "id": "2a1f1f0f",
   "metadata": {},
   "outputs": [],
   "source": []
  }
 ],
 "metadata": {
  "kernelspec": {
   "display_name": "Python 3 (ipykernel)",
   "language": "python",
   "name": "python3"
  },
  "language_info": {
   "codemirror_mode": {
    "name": "ipython",
    "version": 3
   },
   "file_extension": ".py",
   "mimetype": "text/x-python",
   "name": "python",
   "nbconvert_exporter": "python",
   "pygments_lexer": "ipython3",
   "version": "3.11.5"
  }
 },
 "nbformat": 4,
 "nbformat_minor": 5
}
