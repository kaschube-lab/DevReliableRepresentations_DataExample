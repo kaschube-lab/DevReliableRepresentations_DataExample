{
 "cells": [
  {
   "cell_type": "code",
   "execution_count": 10,
   "id": "e0bb98e2",
   "metadata": {},
   "outputs": [],
   "source": [
    "import numpy as np\n",
    "\n",
    "import sys, os\n",
    "from os.path import abspath, sep, pardir\n",
    "sys.path.append(abspath('') + sep + pardir)\n"
   ]
  },
  {
   "cell_type": "code",
   "execution_count": 20,
   "id": "6df0200b",
   "metadata": {},
   "outputs": [],
   "source": [
    "#create basepath based on folder containing 'DataF2181', 'Analysis', and others\n",
    "basepath=abspath('') + sep + pardir"
   ]
  },
  {
   "cell_type": "code",
   "execution_count": 37,
   "id": "800c647d",
   "metadata": {},
   "outputs": [],
   "source": [
    "def load_grating_evoked_data(key='binocular',\n",
    "                            all_dates=['-2','+0','+2','+4','+6'],\n",
    "                            basepath=basepath,\n",
    "                            animal='2181'):\n",
    "    \n",
    "    #dict\n",
    "    grating_frames_all = {}\n",
    "    \n",
    "    #loop trough dates \n",
    "    for date in all_dates:\n",
    "        all_tp_data_day = np.load(\n",
    "            \"{}/DataF{}/Day_EO{}/evoked_data_{}.npy\".format(basepath,animal, date, key))\n",
    "                \n",
    "            \n",
    "        list_tp=[1,8,16,24,31,39,46,54]\n",
    "        label_tp=['0s', '0.5s', '1s', '1.5s', \n",
    "                     '2s', '2.5s', '3s','3.5s',]\n",
    "        grating_frames_day={}\n",
    "        for tp in range(len(list_tp)):\n",
    "            grating_frames_day[label_tp[tp]]= all_tp_data_day[tp]\n",
    "        del all_tp_data_day     \n",
    "                \n",
    "        grating_frames_all.update({'{}'.format(date) : grating_frames_day})        \n",
    "    return grating_frames_all\n"
   ]
  },
  {
   "cell_type": "code",
   "execution_count": 38,
   "id": "840b76ca",
   "metadata": {},
   "outputs": [],
   "source": [
    "grating_data_binoc=load_grating_evoked_data(key='binocular',\n",
    "                            all_dates=['-2','+0','+2','+4','+6'],\n",
    "                            basepath='..',\n",
    "                            animal='2181')"
   ]
  },
  {
   "cell_type": "code",
   "execution_count": 39,
   "id": "6ca69a5f",
   "metadata": {},
   "outputs": [
    {
     "data": {
      "text/plain": [
       "(9, 17, 135, 160)"
      ]
     },
     "execution_count": 39,
     "metadata": {},
     "output_type": "execute_result"
    }
   ],
   "source": [
    "grating_data_binoc['+0']['0s'].shape \n",
    "#should be (9, 17, 135, 160)"
   ]
  },
  {
   "cell_type": "code",
   "execution_count": 46,
   "id": "01532c37",
   "metadata": {},
   "outputs": [],
   "source": [
    "def load_spont_data(all_dates=['-2','+0','+2','+4','+6'],\n",
    "                    basepath=basepath,\n",
    "                    animal='2181'):\n",
    "\n",
    "    \n",
    "    #dict\n",
    "    spont_frames_all = {}\n",
    "    #loop trough dates \n",
    "    for date in all_dates:\n",
    "        spont_frames_day = np.load(\n",
    "            \"{}/DataF{}/Day_EO{}/spont_data.npy\".format(basepath,animal, date))\n",
    "        \n",
    "        spont_frames_all.update({'{}'.format(date) : spont_frames_day})\n",
    "              \n",
    "    #return\n",
    "    return spont_frames_all"
   ]
  },
  {
   "cell_type": "code",
   "execution_count": 47,
   "id": "6f87f5e1",
   "metadata": {},
   "outputs": [],
   "source": [
    "spont_data=load_spont_data(\n",
    "                            all_dates=['-2','+0','+2','+4','+6'],\n",
    "                            basepath='..',\n",
    "                            animal='2181')"
   ]
  },
  {
   "cell_type": "code",
   "execution_count": 48,
   "id": "6ff9f64a",
   "metadata": {},
   "outputs": [
    {
     "data": {
      "text/plain": [
       "(39, 135, 160)"
      ]
     },
     "execution_count": 48,
     "metadata": {},
     "output_type": "execute_result"
    }
   ],
   "source": [
    "spont_data['+0'].shape \n",
    "#should be (39,135,160)"
   ]
  },
  {
   "cell_type": "code",
   "execution_count": 45,
   "id": "c9e81cd4",
   "metadata": {},
   "outputs": [
    {
     "data": {
      "text/plain": [
       "{}"
      ]
     },
     "execution_count": 45,
     "metadata": {},
     "output_type": "execute_result"
    }
   ],
   "source": [
    "spont_data"
   ]
  },
  {
   "cell_type": "code",
   "execution_count": null,
   "id": "ea74a0fb",
   "metadata": {},
   "outputs": [],
   "source": []
  }
 ],
 "metadata": {
  "kernelspec": {
   "display_name": "Python 3 (ipykernel)",
   "language": "python",
   "name": "python3"
  },
  "language_info": {
   "codemirror_mode": {
    "name": "ipython",
    "version": 3
   },
   "file_extension": ".py",
   "mimetype": "text/x-python",
   "name": "python",
   "nbconvert_exporter": "python",
   "pygments_lexer": "ipython3",
   "version": "3.11.5"
  }
 },
 "nbformat": 4,
 "nbformat_minor": 5
}
