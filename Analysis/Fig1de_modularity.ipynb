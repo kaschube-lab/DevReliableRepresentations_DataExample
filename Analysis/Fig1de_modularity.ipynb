{
 "cells": [
  {
   "cell_type": "code",
   "execution_count": 2,
   "id": "ccc3b276",
   "metadata": {},
   "outputs": [],
   "source": [
    "import sys, os\n",
    "from os.path import abspath, sep, pardir\n",
    "sys.path.append(abspath('') + sep + pardir)\n",
    "#create basepath based on folder containing 'DataF2181', 'Analysis', and others\n",
    "#basepath=abspath('') + sep + pardir\n",
    "\n",
    "\n",
    "import numpy as np\n",
    "import matplotlib.pyplot as plt\n",
    "from Tools.plotting_params import *\n",
    "from Tools.loading_funcs import basepath,load_grating_evoked_data\n",
    "#from Tools.plotting_functions import "
   ]
  },
  {
   "cell_type": "code",
   "execution_count": 13,
   "id": "558288fa-7a06-40fe-b1ef-a917bd0badd7",
   "metadata": {},
   "outputs": [],
   "source": [
    "from Tools.opm_functions import opm_from_tuning, opm_to_rgb\n",
    "from Tools.modularity_funcs import cross_correlate_masked, detect_peaks\n",
    "\n",
    "import matplotlib.transforms as transforms\n",
    "tr = transforms.Affine2D().rotate_deg_around(68,80,71)\n",
    "\n",
    "def clip_std(frame, sigma=3):\n",
    "    f_mean=np.nanmean(frame)\n",
    "    f_std=np.nanstd(frame)\n",
    "    f_white = (frame-f_mean)/f_std\n",
    "    return np.clip(f_white, a_min=-sigma, a_max=sigma)\n",
    "\n"
   ]
  },
  {
   "cell_type": "code",
   "execution_count": 4,
   "id": "66877294-c008-4ccd-acd7-56a07974a77b",
   "metadata": {},
   "outputs": [],
   "source": [
    "grating_data_binoc=load_grating_evoked_data(key='binocular',\n",
    "                            all_dates=['-2','+0','+2','+4','+6'],\n",
    "                            basepath='..',\n",
    "                            animal='2181')"
   ]
  },
  {
   "cell_type": "code",
   "execution_count": 5,
   "id": "d8d8bdc7-ec30-433c-b58f-9e9bd16252bc",
   "metadata": {},
   "outputs": [],
   "source": [
    "all_grating_days = [*grating_data_binoc]\n",
    "roi=np.asarray(~np.isnan(grating_data_binoc[all_grating_days[0]]['1s'][0,0]), dtype='bool')\n",
    "\n",
    "Idate=all_grating_days[0]\n",
    "Jdate=all_grating_days[-1]\n",
    "\n",
    "grating_data_Iday = np.copy(grating_data_binoc[Idate]['0.5s'][:,:, roi])    \n",
    "grating_data_Jday = np.copy(grating_data_binoc[Jdate]['0.5s'][:,:, roi]) \n"
   ]
  },
  {
   "cell_type": "markdown",
   "id": "f18893d3-1bb8-4ede-82b9-972d310a61f7",
   "metadata": {},
   "source": [
    "## Figure 1d"
   ]
  },
  {
   "cell_type": "code",
   "execution_count": null,
   "id": "7a26d4c3-e436-4863-80c3-df647c7db60b",
   "metadata": {},
   "outputs": [],
   "source": [
    "#example patterns"
   ]
  },
  {
   "cell_type": "code",
   "execution_count": null,
   "id": "51abf09d-3ac4-47d1-87ac-05bcadb2ac8c",
   "metadata": {},
   "outputs": [],
   "source": []
  },
  {
   "cell_type": "code",
   "execution_count": 12,
   "id": "612cb5b7-39ec-4b77-a9a1-d68c3fedd11b",
   "metadata": {},
   "outputs": [],
   "source": [
    "pattern_naive=grating_data_binoc[Idate]['1s'][0,0]\n",
    "pattern_exp=grating_data_binoc[Jdate]['1s'][0,0]\n",
    "\n",
    "\n",
    "CC_expI=cross_correlate_masked(pattern_exp, pattern_exp, roi, roi, mode='same', axes=(-2, -1),\n",
    "                                   overlap_ratio=0.2)\n",
    "\n",
    "CC_naiveI=cross_correlate_masked(pattern_naive, pattern_naive, roi, roi, mode='same', axes=(-2, -1),\n",
    "                                   overlap_ratio=0.2)\n",
    "\n"
   ]
  },
  {
   "cell_type": "code",
   "execution_count": 10,
   "id": "3e5ecef7-063d-4f97-91cd-da50a7d0ab37",
   "metadata": {},
   "outputs": [
    {
     "name": "stdout",
     "output_type": "stream",
     "text": [
      "0.708\n"
     ]
    }
   ],
   "source": [
    "def pix_to_mm(pix):\n",
    "    diam_in_px = pix*1e-3*23.6 #\n",
    "    return diam_in_px\n",
    "    \n",
    "mm_dist = pix_to_mm(30)\n",
    "print(mm_dist)"
   ]
  },
  {
   "cell_type": "code",
   "execution_count": null,
   "id": "84f486b6-ef4d-4698-a6fc-b80f4b7b5ac4",
   "metadata": {},
   "outputs": [],
   "source": [
    "## calc radial autocorrelation profiles\n",
    "### calc modularity and wavelength from it\n",
    "### wavelength spontaneous\n",
    "\n",
    "#get modularity, wavelength\n",
    "\n",
    "all_ferrets =['2181']\n",
    "\n",
    "for all_results in [all_results_evoked,all_results_blank ]:\n",
    "\n",
    "    for Iferret in all_ferrets:\n",
    "        for icounter, labelI in enumerate([\"binoc\", \"contra\", \"ipsi\"]):\n",
    "            key=\"RadialProfile_autocorr_{}\".format(\n",
    "                labelI)\n",
    "\n",
    "            data_alldays=all_results[key][str(Iferret)]\n",
    "\n",
    "            Ndays = len(data_alldays)\n",
    "\n",
    "            res_modularity=[]\n",
    "            res_modularity_nan=[]\n",
    "            res_wavelength=[]\n",
    "\n",
    "            for iday in range(Ndays):\n",
    "                data_day = data_alldays[iday].copy()\n",
    "\n",
    "                Npats=len(data_day)\n",
    "\n",
    "                res_modularity_d=np.zeros(Npats)\n",
    "                res_modularityNAN_d=np.zeros(Npats)\n",
    "                res_wavelength_d=np.zeros(Npats)\n",
    "\n",
    "                for idx in range(Npats):\n",
    "\n",
    "                    rp=data_day[idx]\n",
    "\n",
    "                    #peaks\n",
    "                    peaks_max= detect_peaks(rp, mph=0, mpd=5)\n",
    "                    peak_2nd=peaks_max[0]\n",
    "                    peaks_min= detect_peaks(-1*rp, mph=0,  mpd=5)\n",
    "                    peak_1st=peaks_min[0]\n",
    "\n",
    "                    #modularity\n",
    "                    res_modularity_d[idx] = np.abs(rp[peak_2nd]-rp[peak_1st])\n",
    "\n",
    "                    #wavelength\n",
    "                    if res_modularity_d[idx]>0.05:\n",
    "                        res_wavelength_d[idx] = 2*pix_to_mm(peak_1st)\n",
    "                    else:\n",
    "                        res_wavelength_d[idx] = np.nan\n",
    "                        \n",
    "                    mod_day = np.copy(res_modularity_d[idx])\n",
    "                    mod_day[mod_day<0.03]=np.nan\n",
    "                    res_modularityNAN_d[idx]=mod_day\n",
    "\n",
    "                res_wavelength.append(res_wavelength_d)\n",
    "                res_modularity.append(res_modularity_d)\n",
    "                res_modularity_nan.append(res_modularityNAN_d)\n",
    "\n",
    "            all_results[\"Modularity_{}\".format(\n",
    "                labelI)][\"{}\".format(Iferret)]=np.asarray(res_modularity)\n",
    "            all_results[\"ModularityNAN_{}\".format(\n",
    "                labelI)][\"{}\".format(Iferret)]=np.asarray(res_modularity_nan)\n",
    "            all_results[\"Wavelength_{}\".format(\n",
    "                labelI)][\"{}\".format(Iferret)]=np.asarray(res_wavelength)\n",
    "\n",
    "\n",
    "            all_results[\"MeanModularity_{}\".format(\n",
    "                labelI)][\"{}\".format(Iferret)]=[np.nanmean(x) for x in res_modularity]\n",
    "            all_results[\"MeanWavelength_{}\".format(\n",
    "                labelI)][\"{}\".format(Iferret)]=[np.nanmean(x) for x in res_wavelength]\n",
    "            all_results[\"MeanModularityNAN_{}\".format(\n",
    "                labelI)][\"{}\".format(Iferret)]=[np.nanmean(x) for x in res_modularity_nan]"
   ]
  },
  {
   "cell_type": "code",
   "execution_count": 11,
   "id": "74f06207-f36f-413f-b5d9-d98d07b27adf",
   "metadata": {},
   "outputs": [
    {
     "data": {
      "image/png": "[encoded data removed]",
      "text/plain": [
       "<Figure size 236.22x354.331 with 3 Axes>"
      ]
     },
     "metadata": {},
     "output_type": "display_data"
    }
   ],
   "source": [
    "\n",
    "fig  = plt.figure(figsize=cm2inch(3,4.5)) \n",
    "plt.subplots_adjust(left=0.3, bottom=0.17, right=0.95, top=0.95, hspace=0.4)\n",
    "\n",
    "gs = fig.add_gridspec(2,2, height_ratios=[1,2])\n",
    "ax1 = fig.add_subplot(gs[0, 0])\n",
    "ax3 = fig.add_subplot(gs[0, 1], sharex=ax1, sharey=ax1)\n",
    "ax2 = fig.add_subplot(gs[1,:])\n",
    "#ax3 = fig.add_subplot(gs[1, :])\n",
    "\n",
    "\n",
    "\n",
    "#average autocorr\n",
    "ax1.imshow(CC_naiveI, cmap='RdBu_r', vmax=0.6, vmin=-0.6,\n",
    "          extent=[-1.89,1.89,-1.59,1.59,], aspect=1)\n",
    "ax1.axis([-1*mm_dist,mm_dist,-1*mm_dist,mm_dist])\n",
    "# ax1.set_xticks([-0.6,0,0.6])\n",
    "# ax1.set_yticks([-0.6,0,0.6]) \n",
    "ax1.spines[['right', 'top']].set_visible(True)\n",
    "\n",
    "\n",
    "ax3.imshow(CC_expI, cmap='RdBu_r', vmax=0.6, vmin=-0.6,\n",
    "         extent=[-1.89,1.89,-1.59,1.59,], aspect=1)\n",
    "ax3.axis([-1*mm_dist,mm_dist,-1*mm_dist,mm_dist])\n",
    "# ax3.set_xticks([-0.6,0,0.6])\n",
    "ax3.set_yticks([]) \n",
    "ax3.set_xticks([]) \n",
    "ax3.spines[['right', 'top']].set_visible(True)\n",
    "\n",
    "\n",
    "# ##lineplot\n",
    "# key='MeanModularity'\n",
    "\n",
    "# label='binoc'\n",
    "# color='k'\n",
    "# results=all_results_evoked[\"{}_{}\".format(key,label)]\n",
    "# ferret_days=all_results[\"all_EO_days\"]\n",
    "\n",
    "# ax2=plot_groupaverage(ax2,results,all_ferrets,\n",
    "#                         ferret_days,color, \n",
    "#                      age_bins = [-3.5,-0.5, 0.5, 3,  ],\n",
    "#                      dates_plot=[-4,-2,0,np.nan,4,], upper_bound=9,\n",
    "#                      plot_dp=True)\n",
    "\n",
    "\n",
    "ax2.set_ylabel(\"Pattern Modularity\", labelpad=0)\n",
    "ax2.set_xlabel(\"Days relative to EO\", labelpad=2)\n",
    "# ax2.xaxis.set_label_coords(0.48,-0.12, )\n",
    "# ax2.yaxis.set_label_coords(-0.23, 0.5, )\n",
    "ax2.tick_params(length=1.5, width=0.5)\n",
    "\n",
    "ax2.set_xticks([-4,0,4])\n",
    "ax2.set_yticks([0, 0.2, 0.4])\n",
    "fig.align_ylabels((ax1,ax2))\n",
    "plt.show()\n",
    "fig.savefig(\"Modularity_combined_singlepattern.pdf\", dpi=200)\n",
    "# fig.savefig(\"EPI_ttc_contra.png\", dpi=2000)"
   ]
  },
  {
   "cell_type": "code",
   "execution_count": null,
   "id": "5aa8f46f-79e7-4a3c-89a2-20fd21e29976",
   "metadata": {},
   "outputs": [],
   "source": []
  }
 ],
 "metadata": {
  "kernelspec": {
   "display_name": "Python 3 (ipykernel)",
   "language": "python",
   "name": "python3"
  },
  "language_info": {
   "codemirror_mode": {
    "name": "ipython",
    "version": 3
   },
   "file_extension": ".py",
   "mimetype": "text/x-python",
   "name": "python",
   "nbconvert_exporter": "python",
   "pygments_lexer": "ipython3",
   "version": "3.11.5"
  }
 },
 "nbformat": 4,
 "nbformat_minor": 5
}
